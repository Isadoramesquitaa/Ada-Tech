{
  "nbformat": 4,
  "nbformat_minor": 0,
  "metadata": {
    "colab": {
      "provenance": []
    },
    "kernelspec": {
      "name": "python3",
      "display_name": "Python 3"
    },
    "language_info": {
      "name": "python"
    }
  },
  "cells": [
    {
      "cell_type": "markdown",
      "source": [
        "# Resolva de forma mais eficiente e sucinta usando listas e/ou tuplas:"
      ],
      "metadata": {
        "id": "RHjZJrKd9dti"
      }
    },
    {
      "cell_type": "markdown",
      "source": [
        "##  Faça um programa que olhe todos os itens de uma lista e diga quantos deles são pares."
      ],
      "metadata": {
        "id": "Fm3CJkf99hRZ"
      }
    },
    {
      "cell_type": "code",
      "execution_count": null,
      "metadata": {
        "colab": {
          "base_uri": "https://localhost:8080/"
        },
        "id": "Bq_gudjl9XSj",
        "outputId": "20e2f07b-64d8-4ae9-80b2-ef7797d27ca3"
      },
      "outputs": [
        {
          "output_type": "execute_result",
          "data": {
            "text/plain": [
              "[0, 1, 2, 3, 4, 5, 6, 7, 8, 9, 10, 11, 12, 13, 14]"
            ]
          },
          "metadata": {},
          "execution_count": 5
        }
      ],
      "source": [
        "lista_numeros = list(range(15))\n",
        "lista_numeros"
      ]
    },
    {
      "cell_type": "code",
      "source": [
        "def NumerosPares(lista):\n",
        "    try:\n",
        "        if not isinstance(lista, list):\n",
        "            raise TypeError(\"O dado fornecido não é do tipo lista.\")\n",
        "\n",
        "        pares = [numeros for numeros in lista if numeros % 2 == 0]\n",
        "        return f'Nessa lista há {len(pares)} números pares.'\n",
        "    except TypeError as e:\n",
        "        return str(e)"
      ],
      "metadata": {
        "id": "NpnHPZPL-WHJ"
      },
      "execution_count": 29,
      "outputs": []
    },
    {
      "cell_type": "code",
      "source": [
        "NumerosPares(lista_numeros)"
      ],
      "metadata": {
        "colab": {
          "base_uri": "https://localhost:8080/",
          "height": 35
        },
        "id": "g4tmB6pb_Czp",
        "outputId": "a54603f6-e952-4e45-a5e9-8565b58b0159"
      },
      "execution_count": 13,
      "outputs": [
        {
          "output_type": "execute_result",
          "data": {
            "text/plain": [
              "'Nessa lista há 8 números pares.'"
            ],
            "application/vnd.google.colaboratory.intrinsic+json": {
              "type": "string"
            }
          },
          "metadata": {},
          "execution_count": 13
        }
      ]
    },
    {
      "cell_type": "markdown",
      "source": [
        "## Faça um programa que imprima o maior número de uma lista, sem usar o método max()"
      ],
      "metadata": {
        "id": "2r84Zexl9ihq"
      }
    },
    {
      "cell_type": "code",
      "source": [
        "lista_variada = [3, 5, 1, 0, 9, 2, 11, 3]\n",
        "\n",
        "def MaiorElemento(lista):\n",
        "    try:\n",
        "        if not lista:\n",
        "            raise ValueError(\"A lista está vazia.\")\n",
        "\n",
        "        maior = lista[0]\n",
        "        for elemento in lista:\n",
        "            if elemento > maior:\n",
        "                maior = elemento\n",
        "        return maior\n",
        "    except TypeError:\n",
        "        return \"A entrada não é uma lista válida.\""
      ],
      "metadata": {
        "id": "VMj71h489mLb"
      },
      "execution_count": 28,
      "outputs": []
    },
    {
      "cell_type": "code",
      "source": [
        "MaiorElemento(lista_variada)"
      ],
      "metadata": {
        "colab": {
          "base_uri": "https://localhost:8080/"
        },
        "id": "yV1qjoopHjgJ",
        "outputId": "0c445931-77c0-4cac-ea59-0232a4d6189c"
      },
      "execution_count": 18,
      "outputs": [
        {
          "output_type": "execute_result",
          "data": {
            "text/plain": [
              "11"
            ]
          },
          "metadata": {},
          "execution_count": 18
        }
      ]
    },
    {
      "cell_type": "markdown",
      "source": [
        "## Faça um Programa que peça as 4 notas bimestrais e mostre a média, usando listas."
      ],
      "metadata": {
        "id": "B49_Vg8r9md5"
      }
    },
    {
      "cell_type": "code",
      "source": [
        "from functools import reduce"
      ],
      "metadata": {
        "id": "dKfq7uH5NH9P"
      },
      "execution_count": 19,
      "outputs": []
    },
    {
      "cell_type": "code",
      "source": [
        "def MediaBimestre():\n",
        "    try:\n",
        "        notas = [float(input(f\"Digite a {i+1}ª nota: \")) for i in range(4)]\n",
        "    except ValueError:\n",
        "        return \"Insira apenas números para as notas!\"\n",
        "\n",
        "    try:\n",
        "        media = reduce(lambda x, y: x + y, notas) / 4\n",
        "    except ZeroDivisionError:\n",
        "        return \"Não é possível calcular a média sem notas. Informe!\"\n",
        "\n",
        "    return f'A média do Bimestre para o aluno é {round(media, 1)}'"
      ],
      "metadata": {
        "id": "bnbP5qDu9pVK"
      },
      "execution_count": 26,
      "outputs": []
    },
    {
      "cell_type": "code",
      "source": [
        "MediaBimestre()"
      ],
      "metadata": {
        "colab": {
          "base_uri": "https://localhost:8080/",
          "height": 105
        },
        "id": "faNonXW6MmnE",
        "outputId": "0ed90d81-8a01-42b7-9ce4-882b27b93b34"
      },
      "execution_count": 27,
      "outputs": [
        {
          "name": "stdout",
          "output_type": "stream",
          "text": [
            "Digite a 1ª nota: 8\n",
            "Digite a 2ª nota: 4\n",
            "Digite a 3ª nota: 6.9\n",
            "Digite a 4ª nota: 3.7\n"
          ]
        },
        {
          "output_type": "execute_result",
          "data": {
            "text/plain": [
              "'A média do Bimestre para o aluno é 5.6'"
            ],
            "application/vnd.google.colaboratory.intrinsic+json": {
              "type": "string"
            }
          },
          "metadata": {},
          "execution_count": 27
        }
      ]
    },
    {
      "cell_type": "markdown",
      "source": [
        "## Considere que temos uma lista com os nomes de todos os alunos de uma turma, e outra com as notas, na mesma ordem. Como faríamos para acessar, simultaneamente, o nome de um aluno e a sua nota?"
      ],
      "metadata": {
        "id": "X16Dea799pjI"
      }
    },
    {
      "cell_type": "code",
      "source": [
        "nomes = [\"Isadora\", \"Roberto\", \"Sabrina\", \"Ada\"]\n",
        "notas = [7.5, 9.0, 8.2, 8.8]"
      ],
      "metadata": {
        "id": "WkPgMJWVOzy3"
      },
      "execution_count": 30,
      "outputs": []
    },
    {
      "cell_type": "code",
      "source": [
        "def ExibirNomesENotas(nomes, notas):\n",
        "    try:\n",
        "        if len(nomes) != len(notas):\n",
        "            raise ValueError(\"Os dados fornecidos possuem dimensões diferentes.\")\n",
        "\n",
        "        for nome, nota in zip(nomes, notas):\n",
        "            print(f\"Nome: {nome}, Nota: {nota}\")\n",
        "\n",
        "    except ValueError as e:\n",
        "        print(str(e))"
      ],
      "metadata": {
        "id": "HEg6nCrh9s3g"
      },
      "execution_count": 31,
      "outputs": []
    },
    {
      "cell_type": "code",
      "source": [
        "ExibirNomesENotas(nomes, notas)"
      ],
      "metadata": {
        "colab": {
          "base_uri": "https://localhost:8080/"
        },
        "id": "1lHRRXp0PPcQ",
        "outputId": "95392476-87ef-471b-8379-57be7f6fb4be"
      },
      "execution_count": 32,
      "outputs": [
        {
          "output_type": "stream",
          "name": "stdout",
          "text": [
            "Nome: Isadora, Nota: 7.5\n",
            "Nome: Roberto, Nota: 9.0\n",
            "Nome: Sabrina, Nota: 8.2\n",
            "Nome: Ada, Nota: 8.8\n"
          ]
        }
      ]
    },
    {
      "cell_type": "markdown",
      "source": [
        "## Para que a entrega de alimentos seja feita com qualidade por um serviço de delivery, é muito importante que as caixas de transporte utilizadas por entregadores tenham um revestimento térmico interno, para manter a temperatura dos alimentos. Muitos destes revestimentos são importados de países que utilizam diferentes escalas de temperatura, de modo que as especificações quanto às temperaturas de operação podem gerar confusão.\n",
        "\n",
        "Pensando nisso, escreva um código em Python que recebe um número (que possa ter casas decimais) e a escala de temperatura em que este valor se encontra e para qual ele deseja converter (Celsius, Kelvin ou Fahrenheit). Tanto na escala em que se encontra quanto para a que deseja converter, utilize as letras iniciais como entrada: Celsius - 'C', Kelvin - 'K' ou Fahrenheit - 'F'.\n",
        "\n",
        "Importante: o programa deve trabalhar apenas com as 3 escalas supracitadas! Então, não deixe de fazer as validações necessárias. Além disso, por definição, não existem temperaturas em Kelvin abaixo de zero (o valor zero pode existir), portanto verifique também esta condição para que sejam feitas conversões válidas!"
      ],
      "metadata": {
        "id": "yBDQaLxJ9tMx"
      }
    }
  ]
}