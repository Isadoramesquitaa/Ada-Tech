{
  "nbformat": 4,
  "nbformat_minor": 0,
  "metadata": {
    "colab": {
      "provenance": []
    },
    "kernelspec": {
      "name": "python3",
      "display_name": "Python 3"
    },
    "language_info": {
      "name": "python"
    }
  },
  "cells": [
    {
      "cell_type": "markdown",
      "source": [
        "Grupo: Eliane Santos, Isadora Mesquita, Ingrid Barbosa, Pedro Lustosa e Rafael Guisso\n",
        "\n",
        "Os dados abaixo são referentes ao cadastro de clientes de uma empresa de logística de entrega de alimentação. Nesse cadastro, há quanto foi gasto pelo cliente nas últimas 4 compras e uma classificação de NPS: Promotor, Neutro, Detrator. O nosso intuito é, a partir das últimas compras de alguns clientes que já deram uma nota NPS, estimar essa classificação para aqueles que ainda não estão classificados, afim de melhorar o atendimento desses novos clientes.\n",
        "\n",
        "Os dados abaixo seguem o seguinte padrão:\n",
        "\n",
        "[CPF: INT, Classificação NPS: STRING, Valor das últimas compras feitas pelo cliente: TUPLA"
      ],
      "metadata": {
        "id": "wxoebvNINd8j"
      }
    },
    {
      "cell_type": "markdown",
      "source": [
        "Últimas quatro compras: dados de entrada\n",
        "\n",
        "NPS: saída"
      ],
      "metadata": {
        "id": "hPPK01siRS9g"
      }
    },
    {
      "cell_type": "code",
      "execution_count": null,
      "metadata": {
        "id": "YysyH2O0Aiho"
      },
      "outputs": [],
      "source": [
        "# Dataset\n",
        "data = [[66707599984, 'Promotor', (51.00, 35.00, 14.00, 20.0)],\n",
        " [55695397315, 'Promotor', (49.00, 30.00, 14.00, 20.0)],\n",
        " [63743886918, 'Promotor', (47.00, 32.00, 13.00, 20.0)],\n",
        " [55941368774, 'Promotor', (46.00, 31.00, 15.00, 20.0)],\n",
        " [75486280874, 'Promotor', (50.00, 36.00, 14.00, 20.0)],\n",
        " [53164949799, 'Promotor', (54.00, 39.00, 17.00, 40.0)],\n",
        " [39898704131, 'Promotor', (46.00, 34.00, 14.00, 30.0)],\n",
        " [53740901207, 'Promotor', (50.00, 34.00, 15.00, 20.0)],\n",
        " [51735950236, 'Promotor', (44.00, 29.00, 14.00, 20.0)],\n",
        " [47305108951, 'Promotor', (49.00, 31.00, 15.00, 10.0)],\n",
        " [63858864633, 'Promotor', (54.00, 37.00, 15.00, 20.0)],\n",
        " [53363167240, 'Promotor', (48.00, 34.00, 16.00, 20.0)],\n",
        " [72133754195, 'Promotor', (48.00, 30.00, 14.00, 10.0)],\n",
        " [52802483512, 'Promotor', (43.00, 30.00, 11.00, 10.0)],\n",
        " [57925287214, 'Promotor', (48.00, 34.00, 19.00, 20.0)],\n",
        " [74354632224, 'Promotor', (50.00, 30.00, 16.00, 20.0)],\n",
        " [64020216626, 'Promotor', (50.00, 34.00, 16.00, 40.0)],\n",
        " [78223722856, 'Promotor', (52.00, 35.00, 15.00, 20.0)],\n",
        " [58245228846, 'Promotor', (52.00, 34.00, 14.00, 20.0)],\n",
        " [74490686776, 'Promotor', (47.00, 32.00, 16.00, 20.0)],\n",
        " [48646824781, 'Promotor', (48.00, 31.00, 16.00, 20.0)],\n",
        " [77381458676, 'Promotor', (54.00, 34.00, 15.00, 40.0)],\n",
        " [41615431874, 'Promotor', (52.00, 41.00, 15.00, 10.0)],\n",
        " [52163844491, 'Promotor', (55.00, 42.00, 14.00, 20.0)],\n",
        " [70276304567, 'Promotor', (49.00, 31.00, 15.00, 20.0)],\n",
        " [69119828185, 'Promotor', (50.00, 32.00, 12.00, 20.0)],\n",
        " [65441690046, 'Promotor', (55.00, 35.00, 13.00, 20.0)],\n",
        " [56457227894, 'Promotor', (49.00, 36.00, 14.00, 10.0)],\n",
        " [46939428126, 'Promotor', (44.00, 30.00, 13.00, 20.0)],\n",
        " [60979942480, 'Promotor', (51.00, 34.00, 15.00, 20.0)],\n",
        " [41648583220, 'Promotor', (50.00, 35.00, 13.00, 30.0)],\n",
        " [50376331791, 'Promotor', (45.00, 23.00, 13.00, 30.0)],\n",
        " [67008801023, 'Promotor', (44.00, 32.00, 13.00, 20.0)],\n",
        " [72149193419, 'Promotor', (50.00, 35.00, 16.00, 60.0)],\n",
        " [62830733382, 'Promotor', (51.00, 38.00, 19.00, 40.0)],\n",
        " [56716675811, 'Promotor', (48.00, 30.00, 14.00, 30.0)],\n",
        " [61089667146, 'Promotor', (51.00, 38.00, 16.00, 20.0)],\n",
        " [47795509468, 'Promotor', (46.00, 32.00, 14.00, 20.0)],\n",
        " [60899885693, 'Promotor', (53.00, 37.00, 15.00, 20.0)],\n",
        " [53433670705, 'Promotor', (50.00, 33.00, 14.00, 20.0)],\n",
        " [54850120580, 'Neutro', (70.00, 32.00, 47.00, 14.00)],\n",
        " [71457789994, 'Neutro', (64.00, 32.00, 45.00, 15.00)],\n",
        " [67692777563, 'Neutro', (69.00, 31.00, 49.00, 15.00)],\n",
        " [43133573182, 'Neutro', (55.00, 23.00, 40.00, 13.00)],\n",
        " [55150612815, 'Neutro', (65.00, 28.00, 46.00, 15.00)],\n",
        " [48211725243, 'Neutro', (57.00, 28.00, 45.00, 13.00)],\n",
        " [76686463776, 'Neutro', (63.00, 33.00, 47.00, 16.00)],\n",
        " [71971000560, 'Neutro', (49.00, 24.00, 33.00, 10.00)],\n",
        " [40307235992, 'Neutro', (66.00, 29.00, 46.00, 13.00)],\n",
        " [44826533081, 'Neutro', (52.00, 27.00, 39.00, 14.00)],\n",
        " [45735414894, 'Neutro', (59.00, 32.00, 48.00, 18.00)],\n",
        " [57137146514, 'Neutro', (61.00, 28.00, 40.00, 13.00)],\n",
        " [53657058251, 'Neutro', (63.00, 25.00, 49.00, 15.00)],\n",
        " [52941460485, 'Neutro', (61.00, 28.00, 47.00, 12.00)],\n",
        " [44306600683, 'Neutro', (64.00, 29.00, 43.00, 13.00)],\n",
        " [43460747924, 'Neutro', (66.00, 30.00, 44.00, 14.00)],\n",
        " [75590376075, 'Neutro', (68.00, 28.00, 48.00, 14.00)],\n",
        " [68267282206, 'Neutro', (67.00, 30.00, 50.00, 17.00)],\n",
        " [77567920298, 'Neutro', (60.00, 29.00, 45.00, 15.00)],\n",
        " [67600419504, 'Neutro', (57.00, 26.00, 35.00, 10.00)],\n",
        " [44902189811, 'Neutro', (55.00, 24.00, 38.00, 11.00)],\n",
        " [62966866614, 'Neutro', (55.00, 24.00, 37.00, 10.00)],\n",
        " [56182108880, 'Neutro', (58.00, 27.00, 39.00, 12.00)],\n",
        " [78299785392, 'Neutro', (60.00, 27.00, 51.00, 16.00)],\n",
        " [45206071878, 'Neutro', (54.00, 30.00, 45.00, 15.00)],\n",
        " [57381925887, 'Neutro', (60.00, 34.00, 45.00, 16.00)],\n",
        " [65654934891, 'Neutro', (67.00, 31.00, 47.00, 15.00)],\n",
        " [56130640481, 'Neutro', (63.00, 23.00, 44.00, 13.00)],\n",
        " [59667611672, 'Neutro', (56.00, 30.00, 41.00, 13.00)],\n",
        " [40349334385, 'Neutro', (55.00, 25.00, 40.00, 13.00)],\n",
        " [68422640081, 'Neutro', (55.00, 26.00, 44.00, 12.00)],\n",
        " [55245923439, 'Neutro', (61.00, 30.00, 46.00, 14.00)],\n",
        " [51286696873, 'Neutro', (58.00, 26.00, 40.00, 12.00)],\n",
        " [41065279767, 'Neutro', (50.00, 23.00, 33.00, 10.00)],\n",
        " [42866454119, 'Neutro', (56.00, 27.00, 42.00, 13.00)],\n",
        " [61962944542, 'Neutro', (57.00, 30.00, 42.00, 12.00)],\n",
        " [48623501235, 'Neutro', (57.00, 29.00, 42.00, 13.00)],\n",
        " [49475220139, 'Neutro', (62.00, 29.00, 43.00, 13.00)],\n",
        " [52245218531, 'Neutro', (51.00, 25.00, 30.00, 11.00)],\n",
        " [50932926697, 'Neutro', (57.00, 28.00, 41.00, 13.00)],\n",
        " [47432932248, 'Detrator', (63.00, 33.00, 60.00, 25.00)],\n",
        " [39321991579, 'Detrator', (58.00, 27.00, 51.00, 19.00)],\n",
        " [46283759608, 'Detrator', (71.00, 30.00, 59.00, 21.00)],\n",
        " [56996272538, 'Detrator', (63.00, 29.00, 56.00, 18.00)],\n",
        " [77232189978, 'Detrator', (65.00, 30.00, 58.00, 22.00)],\n",
        " [77183282421, 'Detrator', (76.00, 30.00, 66.00, 21.00)],\n",
        " [42857147573, 'Detrator', (49.00, 25.00, 45.00, 17.00)],\n",
        " [39331584043, 'Detrator', (73.00, 29.00, 63.00, 18.00)],\n",
        " [48130345228, 'Detrator', (67.00, 25.00, 58.00, 18.00)],\n",
        " [71422443953, 'Detrator', (72.00, 36.00, 61.00, 25.00)],\n",
        " [72508507904, 'Detrator', (69.00, 32.00, 57.00, 23.00)],\n",
        " [41188727558, 'Detrator', (56.00, 28.00, 49.00, 20.00)],\n",
        " [61358776640, 'Detrator', (77.00, 28.00, 67.00, 20.00)],\n",
        " [66934042323, 'Detrator', (63.00, 27.00, 49.00, 18.00)],\n",
        " [40622495567, 'Detrator', (67.00, 33.00, 57.00, 21.00)],\n",
        " [57221661311, 'Detrator', (72.00, 32.00, 60.00, 18.00)],\n",
        " [45159362930, 'Detrator', (62.00, 28.00, 48.00, 18.00)],\n",
        " [45018975174, 'Detrator', (61.00, 30.00, 49.00, 18.00)],\n",
        " [70685429140, 'Detrator', (64.00, 28.00, 56.00, 21.00)],\n",
        " [61808723477, 'Detrator', (72.00, 30.00, 58.00, 16.00)],\n",
        " [56363906548, 'Detrator', (74.00, 28.00, 61.00, 19.00)],\n",
        " [39646194720, 'Detrator', (79.00, 38.00, 64.00, 20.00)],\n",
        " [55385494438, 'Detrator', (64.00, 28.00, 56.00, 22.00)],\n",
        " [75796138061, 'Detrator', (63.00, 28.00, 51.00, 15.00)],\n",
        " [53595767857, 'Detrator', (61.00, 26.00, 56.00, 14.00)],\n",
        " [48758828080, 'Detrator', (77.00, 30.00, 61.00, 23.00)],\n",
        " [58387651356, 'Detrator', (63.00, 34.00, 56.00, 24.00)],\n",
        " [72846931192, 'Detrator', (64.00, 31.00, 55.00, 18.00)],\n",
        " [47046896346, 'Detrator', (60.00, 30.00, 48.00, 18.00)],\n",
        " [69730292799, 'Detrator', (69.00, 31.00, 54.00, 21.00)],\n",
        " [48177836349, 'Detrator', (67.00, 31.00, 56.00, 24.00)],\n",
        " [57976326635, 'Detrator', (69.00, 31.00, 51.00, 23.00)],\n",
        " [55710813002, 'Detrator', (58.00, 27.00, 51.00, 19.00)],\n",
        " [64028580439, 'Detrator', (68.00, 32.00, 59.00, 23.00)],\n",
        " [49962942971, 'Detrator', (67.00, 33.00, 57.00, 25.00)],\n",
        " [47250893163, 'Detrator', (67.00, 30.00, 52.00, 23.00)],\n",
        " [75559276274, 'Detrator', (63.00, 25.00, 50.00, 19.00)],\n",
        " [58529878272, 'Detrator', (65.00, 30.00, 52.00, 20.00)],\n",
        " [76005896622, 'Detrator', (62.00, 34.00, 54.00, 23.00)],\n",
        " [49212614633, 'Detrator', (59.00, 30.00, 51.00, 18.00)]]\n",
        "\n",
        "no_class = [[45926320819, '', (58.00, 40.00, 12.00, 20.0)],\n",
        " [52559670741, '', (57.00, 44.00, 15.00, 40.0)],\n",
        " [59016004832, '', (54.00, 39.00, 13.00, 40.0)],\n",
        " [66175672425, '', (51.00, 35.00, 14.00, 30.0)],\n",
        " [53330429526, '', (57.00, 38.00, 17.00, 30.0)],\n",
        " [43765563403, '', (51.00, 38.00, 15.00, 30.0)],\n",
        " [68020822591, '', (54.00, 34.00, 17.00, 20.0)],\n",
        " [53939481689, '', (51.00, 37.00, 15.00, 40.0)],\n",
        " [47014057561, '', (46.00, 36.00, 10.00, 20.0)],\n",
        " [57183542047, '', (51.00, 33.00, 17.00, 50.0)],\n",
        "\n",
        " [68518284363, '', (50.00, 20.00, 35.00, 10.00)],\n",
        " [65806049885, '', (59.00, 30.00, 42.00, 15.00)],\n",
        " [54128073086, '', (60.00, 22.00, 40.00, 10.00)],\n",
        " [41306785494, '', (61.00, 29.00, 47.00, 14.00)],\n",
        " [65234831039, '', (56.00, 29.00, 36.00, 13.00)],\n",
        " [50964498067, '', (67.00, 31.00, 44.00, 14.00)],\n",
        " [50810951429, '', (56.00, 30.00, 45.00, 15.00)],\n",
        " [48765044397, '', (58.00, 27.00, 41.00, 10.00)],\n",
        " [41960083761, '', (62.00, 22.00, 45.00, 15.00)],\n",
        " [76657763082, '', (56.00, 25.00, 39.00, 11.00)],\n",
        "\n",
        " [64726487742, '', (65.00, 32.00, 51.00, 20.00)],\n",
        " [75746566283, '', (64.00, 27.00, 53.00, 19.00)],\n",
        " [78576734793, '', (68.00, 30.00, 55.00, 21.00)],\n",
        " [56440141847, '', (57.00, 25.00, 50.00, 20.00)],\n",
        " [66827423000, '', (58.00, 28.00, 51.00, 24.00)],\n",
        " [45267873396, '', (64.00, 32.00, 53.00, 23.00)],\n",
        " [46387191493, '', (65.00, 30.00, 55.00, 18.00)],\n",
        " [54273611732, '', (77.00, 38.00, 67.00, 22.00)],\n",
        " [75135392881, '', (77.00, 26.00, 69.00, 23.00)],\n",
        " [64703873108, '', (60.00, 22.00, 50.00, 15.00)]]"
      ]
    },
    {
      "cell_type": "markdown",
      "source": [
        "![image.png](data:image/png;base64,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)"
      ],
      "metadata": {
        "id": "eIu-mJoaq_S-"
      }
    },
    {
      "cell_type": "markdown",
      "source": [
        "Distância Euclidiana entre dois pontos com várias dimensões. No caso proposto, estamos trabalhando com quatro dimensões.\n",
        "\n",
        "D = sqrt((x1 - x2)^2 + (y1 - y2)^2 + (z1 - z2)^2 + ... + (wn - w2)^2)\n",
        "\n",
        "X - ponto um\\\n",
        "Y - ponto dois\n",
        "\n",
        "n = número de dimensões"
      ],
      "metadata": {
        "id": "3UmQTEOZrBW3"
      }
    },
    {
      "cell_type": "code",
      "source": [
        "# Estou calculando a distância entre cada dado do no_class a cada dado do data\n",
        "\n",
        "def DistEuclidiana(dados1, dados2):\n",
        "  lista_clientes = []  # lista com dados finais\n",
        "  for i in range(len(dados1)): # cada dado pertencente ao dados1 ---> ao chamar a função, corresponde a cada dado do no_class\n",
        "    distancias = []\n",
        "    x_compras_no_class = dados1[i][2]  # Terceiro elemento de cada cliente ---> o preço das últimas 4 compras do dados1\n",
        "    for j in range(len(dados2)):       # cada dado pertencente ao dados ---> ao chamar a função, corresponde a cada dado data\n",
        "      y_compras_data = dados2[j][2]    # Terceiro elemento de cada cliente ---> o preço das últimas 4 compras do dados2\n",
        "      distancia = (((x_compras_no_class[0] - y_compras_data[0]) ** 2) + ((x_compras_no_class[1] - y_compras_data[1]) ** 2) + \\\n",
        "                   ((x_compras_no_class[2] - y_compras_data[2]) ** 2) + ((x_compras_no_class[3] - y_compras_data[3]) ** 2)) ** 0.5\n",
        "\n",
        "      distancias.append((distancia, dados2[j][1]))\n",
        "    lista_clientes.append((dados1[i][0], distancias))\n",
        "  ''' Os dados de saída estarão no formato: [(CPF, [(distancia, 'NPS'), (distancia2, 'NPS2'), (distancia3, 'NPS3')...])]'''\n",
        "  return lista_clientes"
      ],
      "metadata": {
        "id": "sxe4HKMrSERe"
      },
      "execution_count": 123,
      "outputs": []
    },
    {
      "cell_type": "code",
      "source": [
        "dados = DistEuclidiana(no_class, data)"
      ],
      "metadata": {
        "id": "lWOvKNaEYFuW"
      },
      "execution_count": 124,
      "outputs": []
    },
    {
      "cell_type": "code",
      "source": [
        "# Ordenando as distâncias euclidianas de forma crescente\n",
        "\n",
        "def Ordenacao(clientes):\n",
        "  K = int(input('Informe com quantos vizinhos você deseja comparar cada dado: '))\n",
        "  dados_ordenados = []\n",
        "  for dist in clientes:\n",
        "    cresc = sorted(dist[1])[:K]\n",
        "    dados_ordenados.append([dist[0], cresc])\n",
        "\n",
        "  return dados_ordenados"
      ],
      "metadata": {
        "id": "6YV_CU5emw-6"
      },
      "execution_count": 219,
      "outputs": []
    },
    {
      "cell_type": "code",
      "source": [
        "novos_dados = Ordenacao(dados)"
      ],
      "metadata": {
        "id": "Kp31btNtryI8",
        "colab": {
          "base_uri": "https://localhost:8080/"
        },
        "outputId": "5a9e0a02-1b91-49f2-d610-f6c03268bc0b"
      },
      "execution_count": 220,
      "outputs": [
        {
          "name": "stdout",
          "output_type": "stream",
          "text": [
            "Informe com quantos vizinhos você deseja comparar cada dado: 5\n"
          ]
        }
      ]
    },
    {
      "cell_type": "code",
      "source": [
        "# Classificando os novos clientes\n",
        "def KNN(novos_dados):\n",
        "  clf = []  # lista que guardará o CPF e o NPS dos clientes classificados\n",
        "  for cpf_cliente, nps_cliente in novos_dados:\n",
        "      promotor, neutro, detrator = 0, 0, 0\n",
        "      for i in range(len(nps_cliente)):\n",
        "        if nps_cliente[i][1] == 'Promotor':\n",
        "          promotor += 1\n",
        "        elif nps_cliente[i][1] == 'Neutro':\n",
        "          neutro += 1\n",
        "        else:\n",
        "          detrator += 1\n",
        "      freq = max(promotor, neutro, detrator)\n",
        "\n",
        "      if freq == promotor:\n",
        "        nps = 'Promotor'\n",
        "      elif freq == neutro:\n",
        "        nps = 'Neutro'\n",
        "      else:\n",
        "        nps = 'Detrator'\n",
        "\n",
        "      clf.append([cpf_cliente, nps])\n",
        "\n",
        "  return clf"
      ],
      "metadata": {
        "id": "5K1WHU1EHGFc"
      },
      "execution_count": 210,
      "outputs": []
    },
    {
      "cell_type": "code",
      "source": [
        "classificados = KNN(novos_dados)"
      ],
      "metadata": {
        "id": "M2mrM8KvkdSK"
      },
      "execution_count": 211,
      "outputs": []
    },
    {
      "cell_type": "code",
      "source": [
        "# Visualizando as classificações\n",
        "\n",
        "for cpf, nps in classificados:\n",
        "  print(f'CPF: {cpf} ---> NPS: {nps}')"
      ],
      "metadata": {
        "colab": {
          "base_uri": "https://localhost:8080/"
        },
        "id": "8BH93z5vk9-S",
        "outputId": "4f0aa0a2-fcdd-4af6-89f2-36709b4a7a9a"
      },
      "execution_count": 218,
      "outputs": [
        {
          "output_type": "stream",
          "name": "stdout",
          "text": [
            "CPF: 45926320819 ---> NPS: Promotor\n",
            "CPF: 52559670741 ---> NPS: Promotor\n",
            "CPF: 59016004832 ---> NPS: Promotor\n",
            "CPF: 66175672425 ---> NPS: Promotor\n",
            "CPF: 53330429526 ---> NPS: Promotor\n",
            "CPF: 43765563403 ---> NPS: Promotor\n",
            "CPF: 68020822591 ---> NPS: Promotor\n",
            "CPF: 53939481689 ---> NPS: Promotor\n",
            "CPF: 47014057561 ---> NPS: Promotor\n",
            "CPF: 57183542047 ---> NPS: Promotor\n",
            "CPF: 68518284363 ---> NPS: Neutro\n",
            "CPF: 65806049885 ---> NPS: Neutro\n",
            "CPF: 54128073086 ---> NPS: Neutro\n",
            "CPF: 41306785494 ---> NPS: Neutro\n",
            "CPF: 65234831039 ---> NPS: Neutro\n",
            "CPF: 50964498067 ---> NPS: Neutro\n",
            "CPF: 50810951429 ---> NPS: Neutro\n",
            "CPF: 48765044397 ---> NPS: Neutro\n",
            "CPF: 41960083761 ---> NPS: Neutro\n",
            "CPF: 76657763082 ---> NPS: Neutro\n",
            "CPF: 64726487742 ---> NPS: Detrator\n",
            "CPF: 75746566283 ---> NPS: Detrator\n",
            "CPF: 78576734793 ---> NPS: Detrator\n",
            "CPF: 56440141847 ---> NPS: Detrator\n",
            "CPF: 66827423000 ---> NPS: Detrator\n",
            "CPF: 45267873396 ---> NPS: Detrator\n",
            "CPF: 46387191493 ---> NPS: Detrator\n",
            "CPF: 54273611732 ---> NPS: Detrator\n",
            "CPF: 75135392881 ---> NPS: Detrator\n",
            "CPF: 64703873108 ---> NPS: Detrator\n"
          ]
        }
      ]
    }
  ]
}
